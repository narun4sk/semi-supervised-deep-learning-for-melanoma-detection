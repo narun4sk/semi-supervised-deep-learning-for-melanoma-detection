{
 "cells": [
  {
   "cell_type": "markdown",
   "metadata": {},
   "source": [
    "### If there are no import errors - the environment was set up correctly:"
   ]
  },
  {
   "cell_type": "code",
   "execution_count": 1,
   "metadata": {},
   "outputs": [],
   "source": [
    "import torch\n",
    "import torchvision\n",
    "import numpy as np\n",
    "import matplotlib.pyplot as plt\n",
    "from torch import nn, optim\n",
    "from torchvision import datasets, transforms"
   ]
  },
  {
   "cell_type": "code",
   "execution_count": 2,
   "metadata": {},
   "outputs": [
    {
     "data": {
      "text/plain": [
       "'1.6.0'"
      ]
     },
     "execution_count": 2,
     "metadata": {},
     "output_type": "execute_result"
    }
   ],
   "source": [
    "torch.__version__"
   ]
  },
  {
   "cell_type": "markdown",
   "metadata": {},
   "source": [
    "### Now we will download (if needed) and set up MNIST datasets:"
   ]
  },
  {
   "cell_type": "markdown",
   "metadata": {},
   "source": [
    "*Training* dataset first:"
   ]
  },
  {
   "cell_type": "code",
   "execution_count": 3,
   "metadata": {},
   "outputs": [
    {
     "data": {
      "text/plain": [
       "Dataset MNIST\n",
       "    Number of datapoints: 60000\n",
       "    Root location: ./\n",
       "    Split: Train"
      ]
     },
     "execution_count": 3,
     "metadata": {},
     "output_type": "execute_result"
    }
   ],
   "source": [
    "train_set = datasets.MNIST(\"./\", train=True, download=True)\n",
    "train_set"
   ]
  },
  {
   "cell_type": "markdown",
   "metadata": {},
   "source": [
    "And then *Validation* dataset:"
   ]
  },
  {
   "cell_type": "code",
   "execution_count": 4,
   "metadata": {},
   "outputs": [
    {
     "data": {
      "text/plain": [
       "Dataset MNIST\n",
       "    Number of datapoints: 10000\n",
       "    Root location: ./\n",
       "    Split: Test"
      ]
     },
     "execution_count": 4,
     "metadata": {},
     "output_type": "execute_result"
    }
   ],
   "source": [
    "valid_set = datasets.MNIST(\"./\", train=False, download=True)\n",
    "valid_set"
   ]
  },
  {
   "cell_type": "markdown",
   "metadata": {},
   "source": [
    "It seems that the elements in `torchvision` datasets are tuples, where the first item is `PIL.Image.Image`, the second - a numeric value which is presented in the image. Although datasets do have `data` and `targets` attributes, which are `tensors` by themselves, `DataLoader` takes as an input dataset, where the first item in each element must be tensor. Therefore it's best to convert them to tensors during the import."
   ]
  },
  {
   "cell_type": "code",
   "execution_count": 5,
   "metadata": {},
   "outputs": [
    {
     "data": {
      "text/plain": [
       "(<PIL.Image.Image image mode=L size=28x28 at 0x7F69ED233E50>, 8)"
      ]
     },
     "execution_count": 5,
     "metadata": {},
     "output_type": "execute_result"
    }
   ],
   "source": [
    "train_set[3600]"
   ]
  },
  {
   "cell_type": "code",
   "execution_count": 6,
   "metadata": {},
   "outputs": [
    {
     "data": {
      "image/png": "[encoded data removed]",
      "text/plain": [
       "<Figure size 432x288 with 1 Axes>"
      ]
     },
     "metadata": {
      "needs_background": "light"
     },
     "output_type": "display_data"
    }
   ],
   "source": [
    "plt.imshow(train_set[3600][0], cmap='gray_r')\n",
    "plt.show()"
   ]
  },
  {
   "cell_type": "code",
   "execution_count": 7,
   "metadata": {
    "scrolled": true
   },
   "outputs": [
    {
     "data": {
      "text/plain": [
       "(torch.Tensor, torch.Tensor, tensor(8))"
      ]
     },
     "execution_count": 7,
     "metadata": {},
     "output_type": "execute_result"
    }
   ],
   "source": [
    "type(train_set.data), type(train_set.data[3600]), train_set.targets[3600]"
   ]
  },
  {
   "cell_type": "code",
   "execution_count": 8,
   "metadata": {},
   "outputs": [
    {
     "data": {
      "image/png": "[encoded data removed]",
      "text/plain": [
       "<Figure size 432x288 with 1 Axes>"
      ]
     },
     "metadata": {
      "needs_background": "light"
     },
     "output_type": "display_data"
    }
   ],
   "source": [
    "plt.imshow(train_set.data[3600], cmap='gray_r')\n",
    "plt.show()"
   ]
  },
  {
   "cell_type": "code",
   "execution_count": 9,
   "metadata": {},
   "outputs": [],
   "source": [
    "train_set = datasets.MNIST(\"./\", train=True, download=True, transform=transforms.ToTensor())\n",
    "valid_set = datasets.MNIST(\"./\", train=False, download=True, transform=transforms.ToTensor())"
   ]
  },
  {
   "cell_type": "code",
   "execution_count": 10,
   "metadata": {},
   "outputs": [],
   "source": [
    "train_loader = torch.utils.data.DataLoader(train_set, batch_size=196, shuffle=True)\n",
    "valid_loader = torch.utils.data.DataLoader(valid_set, batch_size=196, shuffle=True)"
   ]
  },
  {
   "cell_type": "code",
   "execution_count": 11,
   "metadata": {},
   "outputs": [
    {
     "data": {
      "text/plain": [
       "(torch.Size([1, 28, 28]), 8)"
      ]
     },
     "execution_count": 11,
     "metadata": {},
     "output_type": "execute_result"
    }
   ],
   "source": [
    "image, label = train_set[3600]\n",
    "image.shape, label"
   ]
  },
  {
   "cell_type": "markdown",
   "metadata": {},
   "source": [
    "### Building neural network:"
   ]
  },
  {
   "cell_type": "markdown",
   "metadata": {},
   "source": [
    "A _deep-learning_ model is a directed, acyclic graph of layers. A first layer will learn small local patterns such as edges, a second layer will learn larger patterns made of the features of the first layer, and so on.\n",
    "\n",
    "The most common instance is a linear stack of layers, mapping a single input to a single output:"
   ]
  },
  {
   "cell_type": "code",
   "execution_count": 12,
   "metadata": {},
   "outputs": [
    {
     "data": {
      "text/plain": [
       "Sequential(\n",
       "  (0): Linear(in_features=784, out_features=196, bias=True)\n",
       "  (1): ReLU()\n",
       "  (2): Linear(in_features=196, out_features=98, bias=True)\n",
       "  (3): ReLU()\n",
       "  (4): Linear(in_features=98, out_features=10, bias=True)\n",
       "  (5): Softmax(dim=1)\n",
       ")"
      ]
     },
     "execution_count": 12,
     "metadata": {},
     "output_type": "execute_result"
    }
   ],
   "source": [
    "model = nn.Sequential(\n",
    "    nn.Linear(784, 196), # input size = 28x28 = 784\n",
    "    nn.ReLU(),\n",
    "    nn.Linear(196, 98),\n",
    "    nn.ReLU(),\n",
    "    nn.Linear(98, 10),\n",
    "    nn.Softmax(dim=1)\n",
    ")\n",
    "model"
   ]
  },
  {
   "cell_type": "markdown",
   "metadata": {},
   "source": [
    "Here _ReLU is **activation function**_ (also called a non-linearity). Without it the Dense layer\n",
    "would consist of two linear operations - a dot product and an addition (output = dot(W, input) + b).\n",
    "So the layer could only learn linear transformations of the input data: the hypothesis space (a space of possibilities) of the layer would be the set of all possible linear transformations of the input data. Such a hypothesis space is too restricted and wouldn't benefit from multiple layers of representations."
   ]
  },
  {
   "cell_type": "markdown",
   "metadata": {},
   "source": [
    "_**Loss function** (objective function)_ - the quantity that will be minimized during training. Represents a measure of success for the task at hand:"
   ]
  },
  {
   "cell_type": "code",
   "execution_count": 13,
   "metadata": {},
   "outputs": [],
   "source": [
    "criterion = nn.MSELoss()"
   ]
  },
  {
   "cell_type": "markdown",
   "metadata": {},
   "source": [
    "***Optimizer*** - determines how the network will be updated based on the _loss function_. It implements a specific variant of stochastic gradient descent (SGD):"
   ]
  },
  {
   "cell_type": "code",
   "execution_count": 14,
   "metadata": {},
   "outputs": [],
   "source": [
    "optimizer = optim.RMSprop(model.parameters(), lr=0.001)"
   ]
  },
  {
   "cell_type": "code",
   "execution_count": 15,
   "metadata": {},
   "outputs": [
    {
     "name": "stdout",
     "output_type": "stream",
     "text": [
      "Epoch: 01, train_loss: 0.01546, valid_loss: 0.01929, train_acc: 0.89628, valid_acc: 0.87140\n",
      "Epoch: 02, train_loss: 0.00719, valid_loss: 0.02557, train_acc: 0.95453, valid_acc: 0.84720\n",
      "Epoch: 03, train_loss: 0.00528, valid_loss: 0.00475, train_acc: 0.96612, valid_acc: 0.96800\n",
      "Epoch: 04, train_loss: 0.00411, valid_loss: 0.00698, train_acc: 0.97427, valid_acc: 0.95410\n",
      "Epoch: 05, train_loss: 0.00332, valid_loss: 0.00852, train_acc: 0.97915, valid_acc: 0.94330\n",
      "Epoch: 06, train_loss: 0.00276, valid_loss: 0.01615, train_acc: 0.98318, valid_acc: 0.89080\n",
      "Epoch: 07, train_loss: 0.00235, valid_loss: 0.00672, train_acc: 0.98582, valid_acc: 0.95670\n",
      "Epoch: 08, train_loss: 0.00205, valid_loss: 0.00314, train_acc: 0.98767, valid_acc: 0.97990\n",
      "Epoch: 09, train_loss: 0.00171, valid_loss: 0.00761, train_acc: 0.99028, valid_acc: 0.94780\n",
      "Epoch: 10, train_loss: 0.00155, valid_loss: 0.00335, train_acc: 0.99065, valid_acc: 0.97750\n",
      "Epoch: 11, train_loss: 0.00133, valid_loss: 0.00613, train_acc: 0.99218, valid_acc: 0.96140\n",
      "Epoch: 12, train_loss: 0.00114, valid_loss: 0.00308, train_acc: 0.99370, valid_acc: 0.97960\n"
     ]
    }
   ],
   "source": [
    "for epoch in range(12):\n",
    "    train_loss = 0.\n",
    "    valid_loss = 0.\n",
    "    train_acc = 0.\n",
    "    valid_acc = 0.\n",
    "    \n",
    "    for data, target in train_loader:\n",
    "        # Convert target to one-hot encoding (because of using the MSELoss)\n",
    "        target = torch.zeros(data.size(0), 10).scatter_(1, target[:, None], 1.)\n",
    "        \n",
    "        optimizer.zero_grad()\n",
    "        output = model(data.view(data.size(0), -1))\n",
    "        loss = criterion(output, target)\n",
    "        loss.backward()\n",
    "        optimizer.step()\n",
    "        \n",
    "        train_loss += loss.item()\n",
    "        train_acc += (torch.argmax(output, 1) == torch.argmax(target, 1)).float().sum()\n",
    "    \n",
    "    with torch.no_grad():\n",
    "        for data, target in valid_loader:\n",
    "            target = torch.zeros(data.size(0), 10).scatter_(1, target[:, None], 1.)\n",
    "        \n",
    "            output = model(data.view(data.size(0), -1))\n",
    "            loss = criterion(output, target)\n",
    "            \n",
    "            valid_loss += loss.item()\n",
    "            valid_acc += (torch.argmax(output, 1) == torch.argmax(target, 1)).float().sum()\n",
    "    \n",
    "    train_loss /= len(train_loader)\n",
    "    valid_loss /= len(valid_loader)\n",
    "    train_acc /= len(train_set)\n",
    "    valid_acc /= len(valid_set)\n",
    "   \n",
    "    print('Epoch: {:0>2}, train_loss: {:.5f}, valid_loss: {:.5f}, train_acc: {:.5f}, valid_acc: {:.5f}'.format(\n",
    "        epoch + 1, train_loss, valid_loss, train_acc, valid_acc))"
   ]
  }
 ],
 "metadata": {
  "kernelspec": {
   "display_name": "Python 3",
   "language": "python",
   "name": "python3"
  },
  "language_info": {
   "codemirror_mode": {
    "name": "ipython",
    "version": 3
   },
   "file_extension": ".py",
   "mimetype": "text/x-python",
   "name": "python",
   "nbconvert_exporter": "python",
   "pygments_lexer": "ipython3",
   "version": "3.8.5"
  }
 },
 "nbformat": 4,
 "nbformat_minor": 4
}
